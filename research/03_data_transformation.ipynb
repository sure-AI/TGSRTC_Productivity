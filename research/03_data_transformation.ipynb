{
 "cells": [
  {
   "cell_type": "code",
   "execution_count": 1,
   "metadata": {},
   "outputs": [],
   "source": [
    "import os"
   ]
  },
  {
   "cell_type": "code",
   "execution_count": 2,
   "metadata": {},
   "outputs": [
    {
     "data": {
      "text/plain": [
       "'c:\\\\Users\\\\sr\\\\OneDrive\\\\Documents\\\\Work\\\\Agni\\\\Development\\\\Python\\\\TGSRTC_Productivity\\\\research'"
      ]
     },
     "execution_count": 2,
     "metadata": {},
     "output_type": "execute_result"
    }
   ],
   "source": [
    "%pwd"
   ]
  },
  {
   "cell_type": "code",
   "execution_count": 3,
   "metadata": {},
   "outputs": [],
   "source": [
    "os.chdir(\"../\")"
   ]
  },
  {
   "cell_type": "code",
   "execution_count": 4,
   "metadata": {},
   "outputs": [
    {
     "data": {
      "text/plain": [
       "'c:\\\\Users\\\\sr\\\\OneDrive\\\\Documents\\\\Work\\\\Agni\\\\Development\\\\Python\\\\TGSRTC_Productivity'"
      ]
     },
     "execution_count": 4,
     "metadata": {},
     "output_type": "execute_result"
    }
   ],
   "source": [
    "%pwd"
   ]
  },
  {
   "cell_type": "code",
   "execution_count": 5,
   "metadata": {},
   "outputs": [],
   "source": [
    "from dataclasses import dataclass\n",
    "from pathlib import Path\n",
    "\n",
    "\n",
    "@dataclass(frozen=True)\n",
    "class DataTransformationConfig:\n",
    "    root_dir: Path\n",
    "    data_path: Path"
   ]
  },
  {
   "cell_type": "code",
   "execution_count": 7,
   "metadata": {},
   "outputs": [],
   "source": [
    "from TGSRTC_Productivity.constants import *\n",
    "from TGSRTC_Productivity.utils.common import read_yaml, create_directories"
   ]
  },
  {
   "cell_type": "code",
   "execution_count": 8,
   "metadata": {},
   "outputs": [],
   "source": [
    "class ConfigurationManager:\n",
    "    def __init__(\n",
    "        self,\n",
    "        config_filepath = CONFIG_FILE_PATH,\n",
    "        params_filepath = PARAMS_FILE_PATH,\n",
    "        schema_filepath = SCHEMA_FILE_PATH):\n",
    "\n",
    "        self.config = read_yaml(config_filepath)\n",
    "        self.params = read_yaml(params_filepath)\n",
    "        self.schema = read_yaml(schema_filepath)\n",
    "\n",
    "        create_directories([self.config.artifacts_root])\n",
    "\n",
    "\n",
    "    \n",
    "    def get_data_transformation_config(self) -> DataTransformationConfig:\n",
    "        config = self.config.data_transformation\n",
    "\n",
    "        create_directories([config.root_dir])\n",
    "\n",
    "        data_transformation_config = DataTransformationConfig(\n",
    "            root_dir=config.root_dir,\n",
    "            data_path=config.data_path,\n",
    "        )\n",
    "\n",
    "        return data_transformation_config"
   ]
  },
  {
   "cell_type": "code",
   "execution_count": 9,
   "metadata": {},
   "outputs": [],
   "source": [
    "import os\n",
    "from TGSRTC_Productivity import logger\n",
    "from sklearn.model_selection import train_test_split\n",
    "import pandas as pd"
   ]
  },
  {
   "cell_type": "code",
   "execution_count": 12,
   "metadata": {},
   "outputs": [],
   "source": [
    "class DataTransformation:\n",
    "    def __init__(self, config: DataTransformationConfig):\n",
    "        self.config = config\n",
    "\n",
    "    \n",
    "    ## Note: You can add different data transformation techniques such as Scaler, PCA and all\n",
    "    #You can perform all kinds of EDA in ML cycle here before passing this data to the model\n",
    "\n",
    "    # I am only adding train_test_spliting cz this data is already cleaned up\n",
    "\n",
    "\n",
    "    def train_test_spliting(self):\n",
    "        data = pd.read_csv(self.config.data_path)\n",
    "        \n",
    "        data = data[[#'employee_id',\n",
    "                 'age', \n",
    "                 'depot',\n",
    "                 #'absent_days', \n",
    "                 'tot_opd_kms', \n",
    "                 #'hours',\n",
    "                 #'tot_schedules', \n",
    "                 #'palle_schedules', \n",
    "                 #'suplux_schedules',\n",
    "                 #'express_schedules',\n",
    "                 #'day_schedules',\n",
    "                 #'night_schedules',\n",
    "                 #'bus_age_0to5',\n",
    "                 #'bus_age_5to10',\n",
    "                 #'bus_age_above10', \n",
    "                 #'bus_kms_0to5l', \n",
    "                 #'bus_kms_5to10l',\n",
    "                 #'bus_kms_above10l', \n",
    "                 'creatinine_value', \n",
    "                 #'creatinine_interpret',\n",
    "                 #'blood_pressure_systolic', \n",
    "                 'blood_pressure_diastolic',\n",
    "                 #'blood_pressure_interpret', \n",
    "                 #'hemoglobin_value', \n",
    "                 #'hemoglobin_interpret',\n",
    "                 'glucose_random_value', \n",
    "                 #'glucose_interpret', \n",
    "                 'bilirubin_value',\n",
    "                 #'bilirubin_interpret', \n",
    "                 'total_cholestrol', \n",
    "                 #'final_grading', \n",
    "                 #'PERF',\n",
    "                 #'ECG_interpret', \n",
    "                 #'BMI', \n",
    "                 #'alcohol', \n",
    "                 #'smoke', \n",
    "                 #'tobacco'\n",
    "                ]]\n",
    "        \n",
    "        # One-hot encode the 'depot' column\n",
    "        data = pd.get_dummies(data, columns=['depot'], drop_first=False)\n",
    "\n",
    "        # Split the data into training and test sets. (0.75, 0.25) split.\n",
    "        train, test = train_test_split(data)\n",
    "\n",
    "        train.to_csv(os.path.join(self.config.root_dir, \"train.csv\"),index = False)\n",
    "        test.to_csv(os.path.join(self.config.root_dir, \"test.csv\"),index = False)\n",
    "\n",
    "        logger.info(\"Splited data into training and test sets\")\n",
    "        logger.info(train.shape)\n",
    "        logger.info(test.shape)\n",
    "\n",
    "        print(train.shape)\n",
    "        print(test.shape)"
   ]
  },
  {
   "cell_type": "code",
   "execution_count": 13,
   "metadata": {},
   "outputs": [
    {
     "name": "stdout",
     "output_type": "stream",
     "text": [
      "[2024-09-24 15:13:46,826: INFO: common: yaml file: config\\config.yaml loaded successfully]\n",
      "[2024-09-24 15:13:46,829: INFO: common: yaml file: params.yaml loaded successfully]\n",
      "[2024-09-24 15:13:46,835: INFO: common: yaml file: schema.yaml loaded successfully]\n",
      "[2024-09-24 15:13:46,837: INFO: common: created directory at: artifacts]\n",
      "[2024-09-24 15:13:46,839: INFO: common: created directory at: artifacts/data_transformation]\n",
      "[2024-09-24 15:13:46,861: INFO: 3415556530: Splited data into training and test sets]\n",
      "[2024-09-24 15:13:46,862: INFO: 3415556530: (383, 10)]\n",
      "[2024-09-24 15:13:46,864: INFO: 3415556530: (128, 10)]\n",
      "(383, 10)\n",
      "(128, 10)\n"
     ]
    }
   ],
   "source": [
    "try:\n",
    "    config = ConfigurationManager()\n",
    "    data_transformation_config = config.get_data_transformation_config()\n",
    "    data_transformation = DataTransformation(config=data_transformation_config)\n",
    "    data_transformation.train_test_spliting()\n",
    "except Exception as e:\n",
    "    raise e"
   ]
  }
 ],
 "metadata": {
  "kernelspec": {
   "display_name": "tgsrtc_prod",
   "language": "python",
   "name": "python3"
  },
  "language_info": {
   "codemirror_mode": {
    "name": "ipython",
    "version": 3
   },
   "file_extension": ".py",
   "mimetype": "text/x-python",
   "name": "python",
   "nbconvert_exporter": "python",
   "pygments_lexer": "ipython3",
   "version": "3.12.5"
  }
 },
 "nbformat": 4,
 "nbformat_minor": 2
}
