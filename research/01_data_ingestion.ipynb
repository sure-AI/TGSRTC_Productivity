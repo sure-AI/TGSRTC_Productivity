{
 "cells": [
  {
   "cell_type": "code",
   "execution_count": 20,
   "metadata": {},
   "outputs": [],
   "source": [
    "import os\n",
    "import urllib.request\n",
    "from urllib.parse import urlparse\n",
    "import requests"
   ]
  },
  {
   "cell_type": "code",
   "execution_count": 4,
   "metadata": {},
   "outputs": [],
   "source": [
    "\n",
    "#os.chdir(\"../\")"
   ]
  },
  {
   "cell_type": "code",
   "execution_count": 6,
   "metadata": {},
   "outputs": [],
   "source": [
    "from TGSRTC_Productivity.constants import *\n",
    "from TGSRTC_Productivity.utils.common import read_yaml, create_directories"
   ]
  },
  {
   "cell_type": "code",
   "execution_count": 7,
   "metadata": {},
   "outputs": [
    {
     "data": {
      "text/plain": [
       "'c:\\\\Users\\\\sr\\\\OneDrive\\\\Documents\\\\Work\\\\Agni\\\\Development\\\\Python\\\\TGSRTC_Productivity'"
      ]
     },
     "execution_count": 7,
     "metadata": {},
     "output_type": "execute_result"
    }
   ],
   "source": [
    "%pwd"
   ]
  },
  {
   "cell_type": "code",
   "execution_count": 10,
   "metadata": {},
   "outputs": [],
   "source": [
    "from dataclasses import dataclass\n",
    "from pathlib import Path\n",
    "\n",
    "# Maps to the structure in the config/config.yaml file\n",
    "# Its the return type of the function\n",
    "\n",
    "@dataclass(frozen=True)\n",
    "class DataIngestionConfig:\n",
    "    root_dir: Path\n",
    "    source_URL: str\n",
    "    local_data_file: Path\n",
    "    unzip_dir: Path"
   ]
  },
  {
   "cell_type": "code",
   "execution_count": 10,
   "metadata": {},
   "outputs": [
    {
     "name": "stdout",
     "output_type": "stream",
     "text": [
      "Current Working Directory: c:\\Users\\sr\\OneDrive\\Documents\\Work\\Agni\\Development\\Python\\TGSRTC_Productivity\n"
     ]
    }
   ],
   "source": [
    "print(\"Current Working Directory:\", os.getcwd())"
   ]
  },
  {
   "cell_type": "code",
   "execution_count": 14,
   "metadata": {},
   "outputs": [],
   "source": [
    "class ConfigurationManager:\n",
    "    def __init__(\n",
    "        self,\n",
    "        config_filepath = CONFIG_FILE_PATH,\n",
    "        params_filepath = PARAMS_FILE_PATH,\n",
    "        schema_filepath = SCHEMA_FILE_PATH):\n",
    "\n",
    "        self.config = read_yaml(config_filepath)\n",
    "        self.params = read_yaml(params_filepath)\n",
    "        self.schema = read_yaml(schema_filepath)\n",
    "\n",
    "        create_directories([self.config.artifacts_root])\n",
    "\n",
    "    def get_data_ingestion_config(self) -> DataIngestionConfig:\n",
    "        config = self.config.data_ingestion\n",
    "\n",
    "        create_directories([config.root_dir])\n",
    "\n",
    "        data_ingestion_config = DataIngestionConfig(\n",
    "            root_dir=config.root_dir,\n",
    "            source_URL=config.source_URL,\n",
    "            local_data_file=config.local_data_file,\n",
    "            unzip_dir=config.unzip_dir \n",
    "        )\n",
    "\n",
    "        return data_ingestion_config"
   ]
  },
  {
   "cell_type": "code",
   "execution_count": 11,
   "metadata": {},
   "outputs": [],
   "source": [
    "import os\n",
    "import urllib.request as request\n",
    "import zipfile\n",
    "from TGSRTC_Productivity import logger\n",
    "from TGSRTC_Productivity.utils.common import get_size"
   ]
  },
  {
   "cell_type": "code",
   "execution_count": 22,
   "metadata": {},
   "outputs": [],
   "source": [
    "class DataIngestion:\n",
    "    def __init__(self, config: DataIngestionConfig):\n",
    "        self.config = config\n",
    "\n",
    "\n",
    "    def download_file(self):\n",
    "        try:\n",
    "            # Check if the file already exists\n",
    "            if not os.path.exists(self.config.local_data_file):\n",
    "                # Attempt to download the file\n",
    "\n",
    "                #filename, headers = urllib.request.urlretrieve(\n",
    "                    #url=self.config.source_URL,\n",
    "                    #filename=self.config.local_data_file\n",
    "                #)\n",
    "                url=self.config.source_URL\n",
    "                local_filename = self.config.local_data_file\n",
    "                with requests.get(url, stream=True) as r:\n",
    "                    r.raise_for_status()  # Check for errors\n",
    "                    with open(local_filename, 'wb') as f:\n",
    "                        for chunk in r.iter_content(chunk_size=8192):\n",
    "                            if chunk:  # Filter out keep-alive new chunks\n",
    "                                f.write(chunk)\n",
    "          \n",
    "                logger.info(f\"downloaded successfully! Info:\")\n",
    "            else:\n",
    "                # Log that the file already exists and display its size\n",
    "                file_size = get_size(Path(self.config.local_data_file))\n",
    "                print(f\"File already exists. Size: {file_size}\")\n",
    "                logger.info(f\"File already exists with size: {file_size}\")\n",
    "\n",
    "        except Exception as e:\n",
    "            # Handle exceptions (e.g., HTTP errors, file errors)\n",
    "            print(f\"An error occurred during file download: {str(e)}\")\n",
    "            logger.error(f\"Error during download: {str(e)}\")\n",
    "            raise\n",
    "\n",
    "\n",
    "\n",
    "    def extract_zip_file(self):\n",
    "        \"\"\"\n",
    "        zip_file_path: str\n",
    "        Extracts the zip file into the data directory\n",
    "        Function returns None\n",
    "        \"\"\"\n",
    "        \n",
    "        unzip_path = self.config.unzip_dir\n",
    "        os.makedirs(unzip_path, exist_ok=True)\n",
    "        with zipfile.ZipFile(self.config.local_data_file, 'r') as zip_ref:\n",
    "            zip_ref.extractall(unzip_path)"
   ]
  },
  {
   "cell_type": "code",
   "execution_count": 26,
   "metadata": {},
   "outputs": [
    {
     "name": "stdout",
     "output_type": "stream",
     "text": [
      "[2024-09-23 23:03:20,316: INFO: common: yaml file: config\\config.yaml loaded successfully]\n",
      "[2024-09-23 23:03:20,321: INFO: common: yaml file: params.yaml loaded successfully]\n",
      "[2024-09-23 23:03:20,325: INFO: common: yaml file: schema.yaml loaded successfully]\n",
      "[2024-09-23 23:03:20,327: INFO: common: created directory at: artifacts]\n",
      "[2024-09-23 23:03:20,329: INFO: common: created directory at: artifacts/data_ingestion]\n",
      "[2024-09-23 23:03:21,227: INFO: 282925895: downloaded successfully! Info:]\n"
     ]
    }
   ],
   "source": [
    "try:\n",
    "\n",
    "    config = ConfigurationManager()\n",
    "    data_ingestion_config = config.get_data_ingestion_config()\n",
    "    data_ingestion = DataIngestion(config=data_ingestion_config)\n",
    "    data_ingestion.download_file()\n",
    "    data_ingestion.extract_zip_file()\n",
    "\n",
    "except Exception as e:\n",
    "    raise e"
   ]
  }
 ],
 "metadata": {
  "kernelspec": {
   "display_name": "tgsrtc_prod",
   "language": "python",
   "name": "python3"
  },
  "language_info": {
   "codemirror_mode": {
    "name": "ipython",
    "version": 3
   },
   "file_extension": ".py",
   "mimetype": "text/x-python",
   "name": "python",
   "nbconvert_exporter": "python",
   "pygments_lexer": "ipython3",
   "version": "3.12.5"
  }
 },
 "nbformat": 4,
 "nbformat_minor": 2
}
