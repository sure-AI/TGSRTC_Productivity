{
 "cells": [
  {
   "cell_type": "code",
   "execution_count": 5,
   "metadata": {},
   "outputs": [],
   "source": [
    "import os\n",
    "import pandas as pd "
   ]
  },
  {
   "cell_type": "code",
   "execution_count": 6,
   "metadata": {},
   "outputs": [
    {
     "data": {
      "text/plain": [
       "'c:\\\\Users\\\\sr\\\\OneDrive\\\\Documents\\\\Work\\\\Agni\\\\Development\\\\Python\\\\TGSRTC_Productivity\\\\research'"
      ]
     },
     "execution_count": 6,
     "metadata": {},
     "output_type": "execute_result"
    }
   ],
   "source": [
    "%pwd"
   ]
  },
  {
   "cell_type": "code",
   "execution_count": 7,
   "metadata": {},
   "outputs": [],
   "source": [
    "os.chdir(\"../\")"
   ]
  },
  {
   "cell_type": "code",
   "execution_count": 8,
   "metadata": {},
   "outputs": [
    {
     "data": {
      "text/plain": [
       "'c:\\\\Users\\\\sr\\\\OneDrive\\\\Documents\\\\Work\\\\Agni\\\\Development\\\\Python\\\\TGSRTC_Productivity'"
      ]
     },
     "execution_count": 8,
     "metadata": {},
     "output_type": "execute_result"
    }
   ],
   "source": [
    "%pwd"
   ]
  },
  {
   "cell_type": "code",
   "execution_count": 9,
   "metadata": {},
   "outputs": [
    {
     "data": {
      "text/html": [
       "<div>\n",
       "<style scoped>\n",
       "    .dataframe tbody tr th:only-of-type {\n",
       "        vertical-align: middle;\n",
       "    }\n",
       "\n",
       "    .dataframe tbody tr th {\n",
       "        vertical-align: top;\n",
       "    }\n",
       "\n",
       "    .dataframe thead th {\n",
       "        text-align: right;\n",
       "    }\n",
       "</style>\n",
       "<table border=\"1\" class=\"dataframe\">\n",
       "  <thead>\n",
       "    <tr style=\"text-align: right;\">\n",
       "      <th></th>\n",
       "      <th>employee_id</th>\n",
       "      <th>age</th>\n",
       "      <th>depot</th>\n",
       "      <th>absent_days</th>\n",
       "      <th>tot_opd_kms</th>\n",
       "      <th>hours</th>\n",
       "      <th>tot_schedules</th>\n",
       "      <th>palle_schedules</th>\n",
       "      <th>suplux_schedules</th>\n",
       "      <th>express_schedules</th>\n",
       "      <th>...</th>\n",
       "      <th>bilirubin_value</th>\n",
       "      <th>bilirubin_interpret</th>\n",
       "      <th>total_cholestrol</th>\n",
       "      <th>final_grading</th>\n",
       "      <th>PERF</th>\n",
       "      <th>ECG_interpret</th>\n",
       "      <th>BMI</th>\n",
       "      <th>alcohol</th>\n",
       "      <th>smoke</th>\n",
       "      <th>tobacco</th>\n",
       "    </tr>\n",
       "  </thead>\n",
       "  <tbody>\n",
       "    <tr>\n",
       "      <th>0</th>\n",
       "      <td>152463</td>\n",
       "      <td>46</td>\n",
       "      <td>Mahaboobnagar</td>\n",
       "      <td>5</td>\n",
       "      <td>82432</td>\n",
       "      <td>3570</td>\n",
       "      <td>188.0</td>\n",
       "      <td>186.0</td>\n",
       "      <td>1</td>\n",
       "      <td>1.0</td>\n",
       "      <td>...</td>\n",
       "      <td>0.95</td>\n",
       "      <td>Normal</td>\n",
       "      <td>148</td>\n",
       "      <td>D</td>\n",
       "      <td>650.0</td>\n",
       "      <td>Within Normal Limits</td>\n",
       "      <td>23.0</td>\n",
       "      <td>0</td>\n",
       "      <td>0</td>\n",
       "      <td>0</td>\n",
       "    </tr>\n",
       "    <tr>\n",
       "      <th>1</th>\n",
       "      <td>152461</td>\n",
       "      <td>54</td>\n",
       "      <td>Mahaboobnagar</td>\n",
       "      <td>21</td>\n",
       "      <td>109731</td>\n",
       "      <td>3440</td>\n",
       "      <td>192.0</td>\n",
       "      <td>3.0</td>\n",
       "      <td>174</td>\n",
       "      <td>15.0</td>\n",
       "      <td>...</td>\n",
       "      <td>0.67</td>\n",
       "      <td>Normal</td>\n",
       "      <td>193</td>\n",
       "      <td>A</td>\n",
       "      <td>550.0</td>\n",
       "      <td>Within Normal Limits</td>\n",
       "      <td>25.0</td>\n",
       "      <td>0</td>\n",
       "      <td>0</td>\n",
       "      <td>1</td>\n",
       "    </tr>\n",
       "    <tr>\n",
       "      <th>2</th>\n",
       "      <td>152307</td>\n",
       "      <td>48</td>\n",
       "      <td>Mahaboobnagar</td>\n",
       "      <td>5</td>\n",
       "      <td>104597</td>\n",
       "      <td>3267</td>\n",
       "      <td>297.0</td>\n",
       "      <td>96.0</td>\n",
       "      <td>0</td>\n",
       "      <td>201.0</td>\n",
       "      <td>...</td>\n",
       "      <td>0.48</td>\n",
       "      <td>Normal</td>\n",
       "      <td>158</td>\n",
       "      <td>C</td>\n",
       "      <td>NaN</td>\n",
       "      <td>Intraventricular Conduction Defect? Lbbb Witho...</td>\n",
       "      <td>NaN</td>\n",
       "      <td>0</td>\n",
       "      <td>0</td>\n",
       "      <td>0</td>\n",
       "    </tr>\n",
       "    <tr>\n",
       "      <th>3</th>\n",
       "      <td>150906</td>\n",
       "      <td>54</td>\n",
       "      <td>Mahaboobnagar</td>\n",
       "      <td>0</td>\n",
       "      <td>3547</td>\n",
       "      <td>121</td>\n",
       "      <td>11.0</td>\n",
       "      <td>5.0</td>\n",
       "      <td>0</td>\n",
       "      <td>6.0</td>\n",
       "      <td>...</td>\n",
       "      <td>0.89</td>\n",
       "      <td>Normal</td>\n",
       "      <td>131</td>\n",
       "      <td>C</td>\n",
       "      <td>225.0</td>\n",
       "      <td>Intraventricular Conduction Defect? Lbbb Witho...</td>\n",
       "      <td>25.0</td>\n",
       "      <td>0</td>\n",
       "      <td>0</td>\n",
       "      <td>0</td>\n",
       "    </tr>\n",
       "    <tr>\n",
       "      <th>4</th>\n",
       "      <td>152071</td>\n",
       "      <td>51</td>\n",
       "      <td>Mahaboobnagar</td>\n",
       "      <td>5</td>\n",
       "      <td>76170</td>\n",
       "      <td>3832</td>\n",
       "      <td>214.5</td>\n",
       "      <td>210.5</td>\n",
       "      <td>0</td>\n",
       "      <td>4.0</td>\n",
       "      <td>...</td>\n",
       "      <td>0.88</td>\n",
       "      <td>Normal</td>\n",
       "      <td>128</td>\n",
       "      <td>C</td>\n",
       "      <td>350.0</td>\n",
       "      <td>Within Normal Limits</td>\n",
       "      <td>20.0</td>\n",
       "      <td>0</td>\n",
       "      <td>0</td>\n",
       "      <td>0</td>\n",
       "    </tr>\n",
       "  </tbody>\n",
       "</table>\n",
       "<p>5 rows × 37 columns</p>\n",
       "</div>"
      ],
      "text/plain": [
       "   employee_id  age          depot  absent_days  tot_opd_kms  hours  \\\n",
       "0       152463   46  Mahaboobnagar            5        82432   3570   \n",
       "1       152461   54  Mahaboobnagar           21       109731   3440   \n",
       "2       152307   48  Mahaboobnagar            5       104597   3267   \n",
       "3       150906   54  Mahaboobnagar            0         3547    121   \n",
       "4       152071   51  Mahaboobnagar            5        76170   3832   \n",
       "\n",
       "   tot_schedules  palle_schedules  suplux_schedules  express_schedules  ...  \\\n",
       "0          188.0            186.0                 1                1.0  ...   \n",
       "1          192.0              3.0               174               15.0  ...   \n",
       "2          297.0             96.0                 0              201.0  ...   \n",
       "3           11.0              5.0                 0                6.0  ...   \n",
       "4          214.5            210.5                 0                4.0  ...   \n",
       "\n",
       "   bilirubin_value  bilirubin_interpret  total_cholestrol  final_grading  \\\n",
       "0             0.95               Normal               148              D   \n",
       "1             0.67               Normal               193              A   \n",
       "2             0.48               Normal               158              C   \n",
       "3             0.89               Normal               131              C   \n",
       "4             0.88               Normal               128              C   \n",
       "\n",
       "    PERF                                      ECG_interpret   BMI  alcohol  \\\n",
       "0  650.0                               Within Normal Limits  23.0        0   \n",
       "1  550.0                               Within Normal Limits  25.0        0   \n",
       "2    NaN  Intraventricular Conduction Defect? Lbbb Witho...   NaN        0   \n",
       "3  225.0  Intraventricular Conduction Defect? Lbbb Witho...  25.0        0   \n",
       "4  350.0                               Within Normal Limits  20.0        0   \n",
       "\n",
       "   smoke tobacco  \n",
       "0      0       0  \n",
       "1      0       1  \n",
       "2      0       0  \n",
       "3      0       0  \n",
       "4      0       0  \n",
       "\n",
       "[5 rows x 37 columns]"
      ]
     },
     "execution_count": 9,
     "metadata": {},
     "output_type": "execute_result"
    }
   ],
   "source": [
    "data = pd.read_csv(\"artifacts/data_ingestion/TGSRTC_Productivity.csv\")\n",
    "data.head()"
   ]
  },
  {
   "cell_type": "code",
   "execution_count": 10,
   "metadata": {},
   "outputs": [
    {
     "name": "stdout",
     "output_type": "stream",
     "text": [
      "<class 'pandas.core.frame.DataFrame'>\n",
      "RangeIndex: 511 entries, 0 to 510\n",
      "Data columns (total 37 columns):\n",
      " #   Column                    Non-Null Count  Dtype  \n",
      "---  ------                    --------------  -----  \n",
      " 0   employee_id               511 non-null    int64  \n",
      " 1   age                       511 non-null    int64  \n",
      " 2   depot                     511 non-null    object \n",
      " 3   absent_days               511 non-null    int64  \n",
      " 4   tot_opd_kms               511 non-null    int64  \n",
      " 5   hours                     511 non-null    int64  \n",
      " 6   tot_schedules             511 non-null    float64\n",
      " 7   palle_schedules           511 non-null    float64\n",
      " 8   suplux_schedules          511 non-null    int64  \n",
      " 9   express_schedules         511 non-null    float64\n",
      " 10  day_schedules             511 non-null    float64\n",
      " 11  night_schedules           511 non-null    float64\n",
      " 12  bus_age_0to5              511 non-null    int64  \n",
      " 13  bus_age_5to10             511 non-null    float64\n",
      " 14  bus_age_above10           511 non-null    float64\n",
      " 15  bus_kms_0to5l             511 non-null    float64\n",
      " 16  bus_kms_5to10l            511 non-null    float64\n",
      " 17  bus_kms_above10l          511 non-null    float64\n",
      " 18  creatinine_value          511 non-null    float64\n",
      " 19  creatinine_interpret      511 non-null    object \n",
      " 20  blood_pressure_systolic   511 non-null    int64  \n",
      " 21  blood_pressure_diastolic  511 non-null    int64  \n",
      " 22  blood_pressure_interpret  511 non-null    object \n",
      " 23  hemoglobin_value          511 non-null    float64\n",
      " 24  hemoglobin_interpret      511 non-null    object \n",
      " 25  glucose_random_value      511 non-null    float64\n",
      " 26  glucose_interpret         511 non-null    object \n",
      " 27  bilirubin_value           511 non-null    float64\n",
      " 28  bilirubin_interpret       511 non-null    object \n",
      " 29  total_cholestrol          511 non-null    int64  \n",
      " 30  final_grading             511 non-null    object \n",
      " 31  PERF                      402 non-null    float64\n",
      " 32  ECG_interpret             511 non-null    object \n",
      " 33  BMI                       402 non-null    float64\n",
      " 34  alcohol                   511 non-null    int64  \n",
      " 35  smoke                     511 non-null    int64  \n",
      " 36  tobacco                   511 non-null    int64  \n",
      "dtypes: float64(16), int64(13), object(8)\n",
      "memory usage: 147.8+ KB\n"
     ]
    }
   ],
   "source": [
    "data.info()"
   ]
  },
  {
   "cell_type": "code",
   "execution_count": 11,
   "metadata": {},
   "outputs": [
    {
     "data": {
      "text/plain": [
       "employee_id                   0\n",
       "age                           0\n",
       "depot                         0\n",
       "absent_days                   0\n",
       "tot_opd_kms                   0\n",
       "hours                         0\n",
       "tot_schedules                 0\n",
       "palle_schedules               0\n",
       "suplux_schedules              0\n",
       "express_schedules             0\n",
       "day_schedules                 0\n",
       "night_schedules               0\n",
       "bus_age_0to5                  0\n",
       "bus_age_5to10                 0\n",
       "bus_age_above10               0\n",
       "bus_kms_0to5l                 0\n",
       "bus_kms_5to10l                0\n",
       "bus_kms_above10l              0\n",
       "creatinine_value              0\n",
       "creatinine_interpret          0\n",
       "blood_pressure_systolic       0\n",
       "blood_pressure_diastolic      0\n",
       "blood_pressure_interpret      0\n",
       "hemoglobin_value              0\n",
       "hemoglobin_interpret          0\n",
       "glucose_random_value          0\n",
       "glucose_interpret             0\n",
       "bilirubin_value               0\n",
       "bilirubin_interpret           0\n",
       "total_cholestrol              0\n",
       "final_grading                 0\n",
       "PERF                        109\n",
       "ECG_interpret                 0\n",
       "BMI                         109\n",
       "alcohol                       0\n",
       "smoke                         0\n",
       "tobacco                       0\n",
       "dtype: int64"
      ]
     },
     "execution_count": 11,
     "metadata": {},
     "output_type": "execute_result"
    }
   ],
   "source": [
    "data.isnull().sum()"
   ]
  },
  {
   "cell_type": "code",
   "execution_count": 12,
   "metadata": {},
   "outputs": [
    {
     "data": {
      "text/plain": [
       "(511, 37)"
      ]
     },
     "execution_count": 12,
     "metadata": {},
     "output_type": "execute_result"
    }
   ],
   "source": [
    "data.shape"
   ]
  },
  {
   "cell_type": "code",
   "execution_count": 13,
   "metadata": {},
   "outputs": [
    {
     "data": {
      "text/plain": [
       "Index(['employee_id', 'age', 'depot', 'absent_days', 'tot_opd_kms', 'hours',\n",
       "       'tot_schedules', 'palle_schedules', 'suplux_schedules',\n",
       "       'express_schedules', 'day_schedules', 'night_schedules', 'bus_age_0to5',\n",
       "       'bus_age_5to10', 'bus_age_above10', 'bus_kms_0to5l', 'bus_kms_5to10l',\n",
       "       'bus_kms_above10l', 'creatinine_value', 'creatinine_interpret',\n",
       "       'blood_pressure_systolic', 'blood_pressure_diastolic',\n",
       "       'blood_pressure_interpret', 'hemoglobin_value', 'hemoglobin_interpret',\n",
       "       'glucose_random_value', 'glucose_interpret', 'bilirubin_value',\n",
       "       'bilirubin_interpret', 'total_cholestrol', 'final_grading', 'PERF',\n",
       "       'ECG_interpret', 'BMI', 'alcohol', 'smoke', 'tobacco'],\n",
       "      dtype='object')"
      ]
     },
     "execution_count": 13,
     "metadata": {},
     "output_type": "execute_result"
    }
   ],
   "source": [
    "data.columns"
   ]
  },
  {
   "cell_type": "code",
   "execution_count": 14,
   "metadata": {},
   "outputs": [],
   "source": [
    "from dataclasses import dataclass\n",
    "from pathlib import Path\n",
    "\n",
    "\n",
    "@dataclass(frozen=True)\n",
    "class DataValidationConfig:\n",
    "    root_dir: Path\n",
    "    STATUS_FILE: str\n",
    "    unzip_data_dir: Path\n",
    "    all_schema: dict"
   ]
  },
  {
   "cell_type": "code",
   "execution_count": 15,
   "metadata": {},
   "outputs": [],
   "source": [
    "from TGSRTC_Productivity.constants import *\n",
    "from TGSRTC_Productivity.utils.common import read_yaml, create_directories"
   ]
  },
  {
   "cell_type": "code",
   "execution_count": 16,
   "metadata": {},
   "outputs": [],
   "source": [
    "class ConfigurationManager:\n",
    "    def __init__(\n",
    "        self,\n",
    "        config_filepath = CONFIG_FILE_PATH,\n",
    "        params_filepath = PARAMS_FILE_PATH,\n",
    "        schema_filepath = SCHEMA_FILE_PATH):\n",
    "\n",
    "        self.config = read_yaml(config_filepath)\n",
    "        self.params = read_yaml(params_filepath)\n",
    "        self.schema = read_yaml(schema_filepath)\n",
    "\n",
    "        create_directories([self.config.artifacts_root])\n",
    "\n",
    "\n",
    "    \n",
    "    def get_data_validation_config(self) -> DataValidationConfig:\n",
    "        config = self.config.data_validation\n",
    "        schema = self.schema.COLUMNS\n",
    "\n",
    "        create_directories([config.root_dir])\n",
    "\n",
    "        data_validation_config = DataValidationConfig(\n",
    "            root_dir=config.root_dir,\n",
    "            STATUS_FILE=config.STATUS_FILE,\n",
    "            unzip_data_dir = config.unzip_data_dir,\n",
    "            all_schema=schema,\n",
    "        )\n",
    "\n",
    "        return data_validation_config\n"
   ]
  },
  {
   "cell_type": "code",
   "execution_count": 16,
   "metadata": {},
   "outputs": [],
   "source": [
    "import os\n",
    "from TGSRTC_Productivity import logger"
   ]
  },
  {
   "cell_type": "code",
   "execution_count": 23,
   "metadata": {},
   "outputs": [],
   "source": [
    "class DataValidation:\n",
    "    def __init__(self, config: DataValidationConfig):\n",
    "        self.config = config\n",
    "\n",
    "\n",
    "    def validate_all_columns(self)-> bool:\n",
    "        try:\n",
    "            validation_status = None\n",
    "            print(\"Data Directory ***:\", self.config.unzip_data_dir)\n",
    "            data = pd.read_csv(self.config.unzip_data_dir)\n",
    "            all_cols = list(data.columns)\n",
    "            print(\"All columns:\", all_cols)\n",
    "            all_schema = self.config.all_schema.keys()\n",
    "\n",
    "            \n",
    "            for col in all_cols:\n",
    "                if col not in all_schema:\n",
    "                    validation_status = False\n",
    "                    with open(self.config.STATUS_FILE, 'w') as f:\n",
    "                        f.write(f\"Validation status: {validation_status}\")\n",
    "                else:\n",
    "                    validation_status = True\n",
    "                    with open(self.config.STATUS_FILE, 'w') as f:\n",
    "                        f.write(f\"Validation status: {validation_status}\")\n",
    "\n",
    "            return validation_status\n",
    "        \n",
    "        except Exception as e:\n",
    "            raise e"
   ]
  },
  {
   "cell_type": "code",
   "execution_count": 25,
   "metadata": {},
   "outputs": [
    {
     "name": "stdout",
     "output_type": "stream",
     "text": [
      "[2024-09-24 13:19:17,310: INFO: common: yaml file: config\\config.yaml loaded successfully]\n",
      "[2024-09-24 13:19:17,322: INFO: common: yaml file: params.yaml loaded successfully]\n",
      "[2024-09-24 13:19:17,333: INFO: common: yaml file: schema.yaml loaded successfully]\n",
      "[2024-09-24 13:19:17,339: INFO: common: created directory at: artifacts]\n",
      "[2024-09-24 13:19:17,343: INFO: common: created directory at: artifacts/data_validation]\n",
      "All columns: ['employee_id', 'age', 'depot', 'absent_days', 'tot_opd_kms', 'hours', 'tot_schedules', 'palle_schedules', 'suplux_schedules', 'express_schedules', 'day_schedules', 'night_schedules', 'bus_age_0to5', 'bus_age_5to10', 'bus_age_above10', 'bus_kms_0to5l', 'bus_kms_5to10l', 'bus_kms_above10l', 'creatinine_value', 'creatinine_interpret', 'blood_pressure_systolic', 'blood_pressure_diastolic', 'blood_pressure_interpret', 'hemoglobin_value', 'hemoglobin_interpret', 'glucose_random_value', 'glucose_interpret', 'bilirubin_value', 'bilirubin_interpret', 'total_cholestrol', 'final_grading', 'PERF', 'ECG_interpret', 'BMI', 'alcohol', 'smoke', 'tobacco']\n"
     ]
    }
   ],
   "source": [
    "try:\n",
    "    config = ConfigurationManager()\n",
    "    data_validation_config = config.get_data_validation_config()\n",
    "    data_validation = DataValidation(config=data_validation_config)\n",
    "    data_validation.validate_all_columns()\n",
    "except Exception as e:\n",
    "    raise e"
   ]
  }
 ],
 "metadata": {
  "kernelspec": {
   "display_name": "tgsrtc_prod",
   "language": "python",
   "name": "python3"
  },
  "language_info": {
   "codemirror_mode": {
    "name": "ipython",
    "version": 3
   },
   "file_extension": ".py",
   "mimetype": "text/x-python",
   "name": "python",
   "nbconvert_exporter": "python",
   "pygments_lexer": "ipython3",
   "version": "3.12.5"
  }
 },
 "nbformat": 4,
 "nbformat_minor": 2
}
